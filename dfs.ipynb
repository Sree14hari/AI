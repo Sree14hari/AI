{
 "cells": [
  {
   "cell_type": "code",
   "execution_count": 5,
   "id": "1d0838ac",
   "metadata": {},
   "outputs": [
    {
     "name": "stdout",
     "output_type": "stream",
     "text": [
      "Path from A to F : ['A', 'C', 'F']\n"
     ]
    }
   ],
   "source": [
    "def dfs(graph,start,goal):\n",
    "    stack=[start]\n",
    "    visited=set()\n",
    "    parent={start:None}\n",
    "    \n",
    "    while stack:\n",
    "        node=stack.pop()\n",
    "        if node==goal:\n",
    "            return parent\n",
    "        if node not in visited:\n",
    "            visited.add(node)\n",
    "        for neighbour in graph[node]:\n",
    "            if neighbour not in visited and neighbour not in parent:\n",
    "                parent[neighbour]=node\n",
    "                stack.append(neighbour)\n",
    "    \n",
    "    return None\n",
    "\n",
    "def reconstruct(parent,start,goal):\n",
    "    if parent is None or goal not in parent:\n",
    "        return None\n",
    "    path=[]\n",
    "    current=goal\n",
    "    while current is not None:\n",
    "        path.append(current)\n",
    "        current=parent[current]\n",
    "    \n",
    "    path.reverse()\n",
    "    return path if path[0]==start else None \n",
    "\n",
    "if __name__==\"__main__\":\n",
    "    graph = {\n",
    "        'A': ['B', 'C'],\n",
    "        'B': ['D', 'E'],\n",
    "        'C': ['F'],\n",
    "        'D': [],\n",
    "        'E': ['F'],\n",
    "        'F': []\n",
    "    }\n",
    "    start=input(\"enter start\")\n",
    "    goal=input(\"enter the goal\")\n",
    "    parent=dfs(graph,start,goal)\n",
    "    path=reconstruct(parent,start,goal)\n",
    "    print(f\"Path from {start} to {goal} : {path}\")"
   ]
  }
 ],
 "metadata": {
  "kernelspec": {
   "display_name": "Python 3",
   "language": "python",
   "name": "python3"
  },
  "language_info": {
   "codemirror_mode": {
    "name": "ipython",
    "version": 3
   },
   "file_extension": ".py",
   "mimetype": "text/x-python",
   "name": "python",
   "nbconvert_exporter": "python",
   "pygments_lexer": "ipython3",
   "version": "3.12.10"
  }
 },
 "nbformat": 4,
 "nbformat_minor": 5
}
